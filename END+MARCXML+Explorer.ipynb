{
 "cells": [
  {
   "cell_type": "markdown",
   "metadata": {},
   "source": [
    "# END Data / Jupyter + Python Workshop\n",
    "Nabil Kashyap (nkashya1@swarthmore.edu) / 2017-06-13\n"
   ]
  },
  {
   "cell_type": "markdown",
   "metadata": {},
   "source": [
    "![marc to marc](https://pbs.twimg.com/media/CwsAx9nXAAQ0khZ.jpg:large)"
   ]
  },
  {
   "cell_type": "markdown",
   "metadata": {},
   "source": [
    "This workshop is a first pass at thinking through using Jupyter notebooks as a tool for exploring END MARCXML directly. With the use of hosted END data, the Python library pymarc and a set of helper functions, we should be able to get a hands-on sense for parsing MARC data and for how END records specifically are structured.\n",
    "\n",
    "## STEPS\n",
    "\n",
    "1. import pymarc library\n",
    "2. import endmarcxml.py helper functions\n",
    "3. explore basic Python loops and conditionals\n",
    "4. extract subsets of data based on our sample criteria\n",
    "5. further exploration"
   ]
  },
  {
   "cell_type": "code",
   "execution_count": null,
   "metadata": {},
   "outputs": [],
   "source": [
    "!python3 -m pip install pymarc --user ## install pymarc library\n",
    "!wget https://raw.githubusercontent.com/swat-ds/endmarcxml/master/endmarcxml.py ## install endmarcxml.py helper functions\n",
    "\n",
    "import os ## a little magic to get the locally install library to import\n",
    "import sys\n",
    "home = os.getenv('HOME')\n",
    "sys.path.append(home + '/.local/lib/python3.5/site-packages')\n",
    "\n",
    "from pymarc import marcxml ## import pymarc and endmarcxml\n",
    "import endmarcxml as emx"
   ]
  },
  {
   "cell_type": "markdown",
   "metadata": {
    "collapsed": true
   },
   "source": [
    "## XML is nested\n",
    "\n",
    "Painfully obvious, but necessary to start with. XML consists of nested hierarchies, i.e., there are always parent and child elements. In this case, there's the XML document within which we declare a MARC collection that is the parent of the children MARC records themselves."
   ]
  },
  {
   "cell_type": "code",
   "execution_count": null,
   "metadata": {
    "collapsed": true
   },
   "outputs": [],
   "source": [
    "collection = marcxml.parse_xml_to_array('https://raw.githubusercontent.com/earlynovels/end-dataset/041417-data/full-041417.xml',strict=True)"
   ]
  },
  {
   "cell_type": "code",
   "execution_count": null,
   "metadata": {
    "collapsed": true
   },
   "outputs": [],
   "source": [
    "for record in collection:\n",
    "    print(record.title())\n",
    "    #     print(record['001'].value() + '\\t' + record.title())"
   ]
  },
  {
   "cell_type": "code",
   "execution_count": null,
   "metadata": {},
   "outputs": [],
   "source": [
    "early_set = []\n",
    "\n",
    "for record in collection:\n",
    "    pub_date = emx.get_pub_date(record)\n",
    "    if pub_date and pub_date <= 1789 and pub_date >= 1700:\n",
    "        early_set.append(record)\n",
    "        \n",
    "print(len(early_set))"
   ]
  },
  {
   "cell_type": "code",
   "execution_count": null,
   "metadata": {
    "collapsed": true
   },
   "outputs": [],
   "source": [
    "for record in early_set: print(record.title())"
   ]
  },
  {
   "cell_type": "code",
   "execution_count": null,
   "metadata": {},
   "outputs": [],
   "source": [
    "for record in early_set:\n",
    "    prefix = emx.get_pymarc_field_value('001',record) + '\\t' ## for convenience so we can keep track of these records\n",
    "    if record['595']:\n",
    "        fields = record.get_fields('595')\n",
    "        for field in fields:\n",
    "            print(prefix + field.value())"
   ]
  },
  {
   "cell_type": "code",
   "execution_count": null,
   "metadata": {
    "scrolled": false
   },
   "outputs": [],
   "source": [
    "for record in early_set:\n",
    "    prefix = emx.get_pymarc_field_value('001',record) + '\\t' ## for convenience so we can keep track of these records\n",
    "    subfields = emx.get_subfield_values('595','x',record)\n",
    "    if subfields: print(prefix + str(subfields))"
   ]
  },
  {
   "cell_type": "markdown",
   "metadata": {},
   "source": [
    "## Making basic barcharts based on our subsets\n",
    "\n",
    "Using the libraries numpy and pyplot, we can begin exploring our data visually."
   ]
  },
  {
   "cell_type": "code",
   "execution_count": null,
   "metadata": {},
   "outputs": [],
   "source": [
    "import numpy as np\n",
    "import matplotlib.pyplot as plotter"
   ]
  },
  {
   "cell_type": "code",
   "execution_count": null,
   "metadata": {},
   "outputs": [],
   "source": [
    "\n",
    "x = np.arange(5)\n",
    "y = [5,10,15,35,3]\n",
    "width = 1\n",
    "\n",
    "barChart = plotter.bar(x,\n",
    "\n",
    "                       y,\n",
    "\n",
    "                       width,\n",
    "\n",
    "                       color = ['red','blue'],\n",
    "\n",
    "                       label = 'Returns')\n",
    "plotter.xticks(x, ('2012', '2013', '2014', '2015', '2016'))\n",
    "\n",
    "plotter.tight_layout()\n",
    "plotter.show()\n",
    "\n"
   ]
  }
 ],
 "metadata": {
  "kernelspec": {
   "display_name": "Python 3",
   "language": "python",
   "name": "python3"
  },
  "language_info": {
   "codemirror_mode": {
    "name": "ipython",
    "version": 3
   },
   "file_extension": ".py",
   "mimetype": "text/x-python",
   "name": "python",
   "nbconvert_exporter": "python",
   "pygments_lexer": "ipython3",
   "version": "3.5.2"
  }
 },
 "nbformat": 4,
 "nbformat_minor": 2
}
